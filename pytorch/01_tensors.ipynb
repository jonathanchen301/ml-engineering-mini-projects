{
 "cells": [
  {
   "cell_type": "markdown",
   "id": "b5c9ced1",
   "metadata": {},
   "source": [
    "# Imports"
   ]
  },
  {
   "cell_type": "code",
   "execution_count": 6,
   "id": "2ea9b84b",
   "metadata": {},
   "outputs": [],
   "source": [
    "import torch\n",
    "import numpy as np\n",
    "import matplotlib.pyplot as plt\n",
    "\n",
    "np.random.seed(42)"
   ]
  },
  {
   "cell_type": "markdown",
   "id": "754c416a",
   "metadata": {},
   "source": [
    "# Synthetic Data"
   ]
  },
  {
   "cell_type": "code",
   "execution_count": null,
   "id": "c8d11702",
   "metadata": {},
   "outputs": [
    {
     "name": "stdout",
     "output_type": "stream",
     "text": [
      "tensor([100.0000, 100.0000,  67.1743, 100.0000,  80.8865, 100.0000, 100.0000,\n",
      "         82.5165,  83.7020, 100.0000])\n"
     ]
    }
   ],
   "source": [
    "hours_studied = torch.normal(mean=20.0, std=10.0, size=(100,))\n",
    "hours_studied = torch.clamp(hours_studied, min=0)\n",
    "\n",
    "noise = torch.randn(100) * 5   # random noise with std=5\n",
    "exam_scores = 50 + 2 * hours_studied + noise\n",
    "exam_scores = torch.clamp(exam_scores, min=0, max=100)\n",
    "\n",
    "print(exam_scores[:10])"
   ]
  },
  {
   "cell_type": "markdown",
   "id": "30741368",
   "metadata": {},
   "source": [
    "# Normalize"
   ]
  },
  {
   "cell_type": "code",
   "execution_count": 13,
   "id": "07d45651",
   "metadata": {},
   "outputs": [
    {
     "data": {
      "text/plain": [
       "tensor([ 1.2246,  1.0230, -1.3622,  0.4063, -0.6370,  0.4440,  0.1823, -0.5578,\n",
       "        -0.2883,  0.7350])"
      ]
     },
     "execution_count": 13,
     "metadata": {},
     "output_type": "execute_result"
    }
   ],
   "source": [
    "hours_studied_normalized = (hours_studied - hours_studied.mean()) / hours_studied.std()\n",
    "\n",
    "hours_studied_normalized[:10]"
   ]
  },
  {
   "cell_type": "markdown",
   "id": "596fe932",
   "metadata": {},
   "source": [
    "# Visualization"
   ]
  },
  {
   "cell_type": "code",
   "execution_count": null,
   "id": "6fe66154",
   "metadata": {},
   "outputs": [
    {
     "data": {
      "text/plain": [
       "Text(0.5, 1.0, 'After Normalization')"
      ]
     },
     "execution_count": 25,
     "metadata": {},
     "output_type": "execute_result"
    },
    {
     "data": {
      "image/png": "[encoded data removed]",
      "text/plain": [
       "<Figure size 640x480 with 2 Axes>"
      ]
     },
     "metadata": {},
     "output_type": "display_data"
    }
   ],
   "source": [
    "fig, (ax1, ax2) = plt.subplots(1, 2)\n",
    "ax1.hist(hours_studied.numpy(), bins=20)\n",
    "ax1.set_title('Before Normalization')\n",
    "ax2.hist(hours_studied_normalized.numpy(), bins=20)\n",
    "ax2.set_title('After Normalization')"
   ]
  }
 ],
 "metadata": {
  "kernelspec": {
   "display_name": "ml",
   "language": "python",
   "name": "python3"
  },
  "language_info": {
   "codemirror_mode": {
    "name": "ipython",
    "version": 3
   },
   "file_extension": ".py",
   "mimetype": "text/x-python",
   "name": "python",
   "nbconvert_exporter": "python",
   "pygments_lexer": "ipython3",
   "version": "3.13.7"
  }
 },
 "nbformat": 4,
 "nbformat_minor": 5
}
