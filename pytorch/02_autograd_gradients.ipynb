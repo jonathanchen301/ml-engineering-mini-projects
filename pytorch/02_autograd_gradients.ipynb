{
 "cells": [
  {
   "cell_type": "markdown",
   "id": "e640d331",
   "metadata": {},
   "source": [
    "# Imports"
   ]
  },
  {
   "cell_type": "code",
   "execution_count": 1,
   "id": "c92be6dd",
   "metadata": {},
   "outputs": [],
   "source": [
    "import torch\n",
    "import numpy as np\n",
    "import matplotlib.pyplot as plt\n",
    "\n",
    "# Synthetic Data\n",
    "np.random.seed(42)"
   ]
  },
  {
   "cell_type": "markdown",
   "id": "30862257",
   "metadata": {},
   "source": [
    "# Create Fake Data"
   ]
  },
  {
   "cell_type": "code",
   "execution_count": 2,
   "id": "84d28de8",
   "metadata": {},
   "outputs": [],
   "source": [
    "X = torch.linspace(-3, 3, steps=100)\n",
    "y = 2 * X**2 + torch.randn(100) # Inject some noise"
   ]
  },
  {
   "cell_type": "markdown",
   "id": "91cd43ff",
   "metadata": {},
   "source": [
    "# Define the Model"
   ]
  },
  {
   "cell_type": "code",
   "execution_count": 3,
   "id": "a52d6fb6",
   "metadata": {},
   "outputs": [],
   "source": [
    "w = torch.tensor(0.0, requires_grad=True)"
   ]
  },
  {
   "cell_type": "markdown",
   "id": "5c66a144",
   "metadata": {},
   "source": [
    "# Set Up Training Loop"
   ]
  },
  {
   "cell_type": "code",
   "execution_count": 4,
   "id": "6122c28f",
   "metadata": {},
   "outputs": [],
   "source": [
    "alpha = 0.01\n",
    "num_epochs = 200\n",
    "losses = np.array([0] * num_epochs)"
   ]
  },
  {
   "cell_type": "markdown",
   "id": "cadd5f2f",
   "metadata": {},
   "source": [
    "# Training Loop"
   ]
  },
  {
   "cell_type": "code",
   "execution_count": 5,
   "id": "f9014b2a",
   "metadata": {},
   "outputs": [],
   "source": [
    "for epoch in range(num_epochs):\n",
    "    y_hat = w * X ** 2\n",
    "    loss = (y_hat - y).pow(2).mean()\n",
    "    losses[epoch] = loss.item()\n",
    "    loss.backward()\n",
    "    with torch.no_grad():\n",
    "        w -= alpha * w.grad\n",
    "        w.grad.zero_()"
   ]
  },
  {
   "cell_type": "markdown",
   "id": "541d4cf4",
   "metadata": {},
   "source": [
    "# Visualization"
   ]
  },
  {
   "cell_type": "code",
   "execution_count": 6,
   "id": "8bc66004",
   "metadata": {},
   "outputs": [
    {
     "data": {
      "image/png": "[encoded data removed]",
      "text/plain": [
       "<Figure size 640x480 with 1 Axes>"
      ]
     },
     "metadata": {},
     "output_type": "display_data"
    }
   ],
   "source": [
    "plt.plot(losses)\n",
    "plt.show()"
   ]
  },
  {
   "cell_type": "markdown",
   "id": "b1653bb4",
   "metadata": {},
   "source": [
    "This is gradient descent with PyTorch autograd but no optimizer."
   ]
  }
 ],
 "metadata": {
  "kernelspec": {
   "display_name": "ml",
   "language": "python",
   "name": "python3"
  },
  "language_info": {
   "codemirror_mode": {
    "name": "ipython",
    "version": 3
   },
   "file_extension": ".py",
   "mimetype": "text/x-python",
   "name": "python",
   "nbconvert_exporter": "python",
   "pygments_lexer": "ipython3",
   "version": "3.13.7"
  }
 },
 "nbformat": 4,
 "nbformat_minor": 5
}
